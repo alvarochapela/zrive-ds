{
 "cells": [
  {
   "cell_type": "code",
   "execution_count": 9,
   "metadata": {},
   "outputs": [],
   "source": [
    "import pandas as pd\n",
    "import numpy as np\n",
    "import matplotlib.pyplot as plt\n",
    "import seaborn as sns\n",
    "import matplotlib\n",
    "from typing import Tuple\n",
    "\n",
    "from sklearn.linear_model import LogisticRegression\n",
    "from sklearn.metrics import precision_recall_curve, roc_curve, roc_auc_score, auc\n",
    "from sklearn.pipeline import make_pipeline, Pipeline\n",
    "from sklearn.preprocessing import StandardScaler\n",
    "\n",
    "plt.style.use('fast')"
   ]
  },
  {
   "cell_type": "code",
   "execution_count": 14,
   "metadata": {},
   "outputs": [
    {
     "name": "stdout",
     "output_type": "stream",
     "text": [
      "<class 'pandas.core.frame.DataFrame'>\n",
      "RangeIndex: 2880549 entries, 0 to 2880548\n",
      "Data columns (total 27 columns):\n",
      " #   Column                            Dtype  \n",
      "---  ------                            -----  \n",
      " 0   variant_id                        int64  \n",
      " 1   product_type                      object \n",
      " 2   order_id                          int64  \n",
      " 3   user_id                           int64  \n",
      " 4   created_at                        object \n",
      " 5   order_date                        object \n",
      " 6   user_order_seq                    int64  \n",
      " 7   outcome                           float64\n",
      " 8   ordered_before                    float64\n",
      " 9   abandoned_before                  float64\n",
      " 10  active_snoozed                    float64\n",
      " 11  set_as_regular                    float64\n",
      " 12  normalised_price                  float64\n",
      " 13  discount_pct                      float64\n",
      " 14  vendor                            object \n",
      " 15  global_popularity                 float64\n",
      " 16  count_adults                      float64\n",
      " 17  count_children                    float64\n",
      " 18  count_babies                      float64\n",
      " 19  count_pets                        float64\n",
      " 20  people_ex_baby                    float64\n",
      " 21  days_since_purchase_variant_id    float64\n",
      " 22  avg_days_to_buy_variant_id        float64\n",
      " 23  std_days_to_buy_variant_id        float64\n",
      " 24  days_since_purchase_product_type  float64\n",
      " 25  avg_days_to_buy_product_type      float64\n",
      " 26  std_days_to_buy_product_type      float64\n",
      "dtypes: float64(19), int64(4), object(4)\n",
      "memory usage: 593.4+ MB\n"
     ]
    }
   ],
   "source": [
    "path = '/Users/alvarochapela/Documents/DATOS_ZRIVE/Module2Data/'\n",
    "dataframe = pd.read_csv(path + 'feature_frame.csv')\n",
    "dataframe.info()"
   ]
  },
  {
   "cell_type": "code",
   "execution_count": 15,
   "metadata": {},
   "outputs": [
    {
     "data": {
      "text/html": [
       "<div>\n",
       "<style scoped>\n",
       "    .dataframe tbody tr th:only-of-type {\n",
       "        vertical-align: middle;\n",
       "    }\n",
       "\n",
       "    .dataframe tbody tr th {\n",
       "        vertical-align: top;\n",
       "    }\n",
       "\n",
       "    .dataframe thead th {\n",
       "        text-align: right;\n",
       "    }\n",
       "</style>\n",
       "<table border=\"1\" class=\"dataframe\">\n",
       "  <thead>\n",
       "    <tr style=\"text-align: right;\">\n",
       "      <th></th>\n",
       "      <th>variant_id</th>\n",
       "      <th>product_type</th>\n",
       "      <th>order_id</th>\n",
       "      <th>user_id</th>\n",
       "      <th>created_at</th>\n",
       "      <th>order_date</th>\n",
       "      <th>user_order_seq</th>\n",
       "      <th>outcome</th>\n",
       "      <th>ordered_before</th>\n",
       "      <th>abandoned_before</th>\n",
       "      <th>...</th>\n",
       "      <th>count_children</th>\n",
       "      <th>count_babies</th>\n",
       "      <th>count_pets</th>\n",
       "      <th>people_ex_baby</th>\n",
       "      <th>days_since_purchase_variant_id</th>\n",
       "      <th>avg_days_to_buy_variant_id</th>\n",
       "      <th>std_days_to_buy_variant_id</th>\n",
       "      <th>days_since_purchase_product_type</th>\n",
       "      <th>avg_days_to_buy_product_type</th>\n",
       "      <th>std_days_to_buy_product_type</th>\n",
       "    </tr>\n",
       "  </thead>\n",
       "  <tbody>\n",
       "    <tr>\n",
       "      <th>0</th>\n",
       "      <td>33826472919172</td>\n",
       "      <td>ricepastapulses</td>\n",
       "      <td>2807985930372</td>\n",
       "      <td>3482464092292</td>\n",
       "      <td>2020-10-05 16:46:19</td>\n",
       "      <td>2020-10-05 00:00:00</td>\n",
       "      <td>3</td>\n",
       "      <td>0.0</td>\n",
       "      <td>0.0</td>\n",
       "      <td>0.0</td>\n",
       "      <td>...</td>\n",
       "      <td>0.0</td>\n",
       "      <td>0.0</td>\n",
       "      <td>0.0</td>\n",
       "      <td>2.0</td>\n",
       "      <td>33.0</td>\n",
       "      <td>42.0</td>\n",
       "      <td>31.134053</td>\n",
       "      <td>30.0</td>\n",
       "      <td>30.0</td>\n",
       "      <td>24.27618</td>\n",
       "    </tr>\n",
       "    <tr>\n",
       "      <th>1</th>\n",
       "      <td>33826472919172</td>\n",
       "      <td>ricepastapulses</td>\n",
       "      <td>2808027644036</td>\n",
       "      <td>3466586718340</td>\n",
       "      <td>2020-10-05 17:59:51</td>\n",
       "      <td>2020-10-05 00:00:00</td>\n",
       "      <td>2</td>\n",
       "      <td>0.0</td>\n",
       "      <td>0.0</td>\n",
       "      <td>0.0</td>\n",
       "      <td>...</td>\n",
       "      <td>0.0</td>\n",
       "      <td>0.0</td>\n",
       "      <td>0.0</td>\n",
       "      <td>2.0</td>\n",
       "      <td>33.0</td>\n",
       "      <td>42.0</td>\n",
       "      <td>31.134053</td>\n",
       "      <td>30.0</td>\n",
       "      <td>30.0</td>\n",
       "      <td>24.27618</td>\n",
       "    </tr>\n",
       "    <tr>\n",
       "      <th>2</th>\n",
       "      <td>33826472919172</td>\n",
       "      <td>ricepastapulses</td>\n",
       "      <td>2808099078276</td>\n",
       "      <td>3481384026244</td>\n",
       "      <td>2020-10-05 20:08:53</td>\n",
       "      <td>2020-10-05 00:00:00</td>\n",
       "      <td>4</td>\n",
       "      <td>0.0</td>\n",
       "      <td>0.0</td>\n",
       "      <td>0.0</td>\n",
       "      <td>...</td>\n",
       "      <td>0.0</td>\n",
       "      <td>0.0</td>\n",
       "      <td>0.0</td>\n",
       "      <td>2.0</td>\n",
       "      <td>33.0</td>\n",
       "      <td>42.0</td>\n",
       "      <td>31.134053</td>\n",
       "      <td>30.0</td>\n",
       "      <td>30.0</td>\n",
       "      <td>24.27618</td>\n",
       "    </tr>\n",
       "    <tr>\n",
       "      <th>3</th>\n",
       "      <td>33826472919172</td>\n",
       "      <td>ricepastapulses</td>\n",
       "      <td>2808393957508</td>\n",
       "      <td>3291363377284</td>\n",
       "      <td>2020-10-06 08:57:59</td>\n",
       "      <td>2020-10-06 00:00:00</td>\n",
       "      <td>2</td>\n",
       "      <td>0.0</td>\n",
       "      <td>0.0</td>\n",
       "      <td>0.0</td>\n",
       "      <td>...</td>\n",
       "      <td>0.0</td>\n",
       "      <td>0.0</td>\n",
       "      <td>0.0</td>\n",
       "      <td>2.0</td>\n",
       "      <td>33.0</td>\n",
       "      <td>42.0</td>\n",
       "      <td>31.134053</td>\n",
       "      <td>30.0</td>\n",
       "      <td>30.0</td>\n",
       "      <td>24.27618</td>\n",
       "    </tr>\n",
       "    <tr>\n",
       "      <th>4</th>\n",
       "      <td>33826472919172</td>\n",
       "      <td>ricepastapulses</td>\n",
       "      <td>2808429314180</td>\n",
       "      <td>3537167515780</td>\n",
       "      <td>2020-10-06 10:37:05</td>\n",
       "      <td>2020-10-06 00:00:00</td>\n",
       "      <td>3</td>\n",
       "      <td>0.0</td>\n",
       "      <td>0.0</td>\n",
       "      <td>0.0</td>\n",
       "      <td>...</td>\n",
       "      <td>0.0</td>\n",
       "      <td>0.0</td>\n",
       "      <td>0.0</td>\n",
       "      <td>2.0</td>\n",
       "      <td>33.0</td>\n",
       "      <td>42.0</td>\n",
       "      <td>31.134053</td>\n",
       "      <td>30.0</td>\n",
       "      <td>30.0</td>\n",
       "      <td>24.27618</td>\n",
       "    </tr>\n",
       "  </tbody>\n",
       "</table>\n",
       "<p>5 rows × 27 columns</p>\n",
       "</div>"
      ],
      "text/plain": [
       "       variant_id     product_type       order_id        user_id  \\\n",
       "0  33826472919172  ricepastapulses  2807985930372  3482464092292   \n",
       "1  33826472919172  ricepastapulses  2808027644036  3466586718340   \n",
       "2  33826472919172  ricepastapulses  2808099078276  3481384026244   \n",
       "3  33826472919172  ricepastapulses  2808393957508  3291363377284   \n",
       "4  33826472919172  ricepastapulses  2808429314180  3537167515780   \n",
       "\n",
       "            created_at           order_date  user_order_seq  outcome  \\\n",
       "0  2020-10-05 16:46:19  2020-10-05 00:00:00               3      0.0   \n",
       "1  2020-10-05 17:59:51  2020-10-05 00:00:00               2      0.0   \n",
       "2  2020-10-05 20:08:53  2020-10-05 00:00:00               4      0.0   \n",
       "3  2020-10-06 08:57:59  2020-10-06 00:00:00               2      0.0   \n",
       "4  2020-10-06 10:37:05  2020-10-06 00:00:00               3      0.0   \n",
       "\n",
       "   ordered_before  abandoned_before  ...  count_children  count_babies  \\\n",
       "0             0.0               0.0  ...             0.0           0.0   \n",
       "1             0.0               0.0  ...             0.0           0.0   \n",
       "2             0.0               0.0  ...             0.0           0.0   \n",
       "3             0.0               0.0  ...             0.0           0.0   \n",
       "4             0.0               0.0  ...             0.0           0.0   \n",
       "\n",
       "   count_pets  people_ex_baby days_since_purchase_variant_id  \\\n",
       "0         0.0             2.0                           33.0   \n",
       "1         0.0             2.0                           33.0   \n",
       "2         0.0             2.0                           33.0   \n",
       "3         0.0             2.0                           33.0   \n",
       "4         0.0             2.0                           33.0   \n",
       "\n",
       "   avg_days_to_buy_variant_id  std_days_to_buy_variant_id  \\\n",
       "0                        42.0                   31.134053   \n",
       "1                        42.0                   31.134053   \n",
       "2                        42.0                   31.134053   \n",
       "3                        42.0                   31.134053   \n",
       "4                        42.0                   31.134053   \n",
       "\n",
       "   days_since_purchase_product_type  avg_days_to_buy_product_type  \\\n",
       "0                              30.0                          30.0   \n",
       "1                              30.0                          30.0   \n",
       "2                              30.0                          30.0   \n",
       "3                              30.0                          30.0   \n",
       "4                              30.0                          30.0   \n",
       "\n",
       "   std_days_to_buy_product_type  \n",
       "0                      24.27618  \n",
       "1                      24.27618  \n",
       "2                      24.27618  \n",
       "3                      24.27618  \n",
       "4                      24.27618  \n",
       "\n",
       "[5 rows x 27 columns]"
      ]
     },
     "execution_count": 15,
     "metadata": {},
     "output_type": "execute_result"
    }
   ],
   "source": [
    "dataframe.head()"
   ]
  },
  {
   "cell_type": "code",
   "execution_count": 16,
   "metadata": {},
   "outputs": [],
   "source": [
    "info_cols = set(['variant_id', 'order_id', 'user_id', 'created_at', 'order_date'])\n",
    "label_col = 'outcome'\n",
    "\n",
    "feature_cols_set = set(dataframe.columns) - info_cols - set([label_col])\n",
    "features_cols = list(feature_cols_set)  \n",
    "\n",
    "categorical_cols = set(['product_type', 'vendor'])\n",
    "binary_cols = set(['ordered_before', 'abandoned_before', 'active_snoozed', 'set_as_regular'])\n",
    "\n",
    "numerical_cols_set = feature_cols_set - categorical_cols - binary_cols\n",
    "numerical_cols = list(numerical_cols_set)  \n"
   ]
  },
  {
   "cell_type": "code",
   "execution_count": 20,
   "metadata": {},
   "outputs": [
    {
     "name": "stderr",
     "output_type": "stream",
     "text": [
      "/var/folders/pw/b4ryzt9s5c5g1n_snb_j6yxw0000gn/T/ipykernel_80593/3750389262.py:12: SettingWithCopyWarning: \n",
      "A value is trying to be set on a copy of a slice from a DataFrame\n",
      "\n",
      "See the caveats in the documentation: https://pandas.pydata.org/pandas-docs/stable/user_guide/indexing.html#returning-a-view-versus-a-copy\n",
      "  dataframe.loc[column_name] = pd.to_datetime(dataframe[column_name])\n",
      "/var/folders/pw/b4ryzt9s5c5g1n_snb_j6yxw0000gn/T/ipykernel_80593/3750389262.py:17: SettingWithCopyWarning: \n",
      "A value is trying to be set on a copy of a slice from a DataFrame\n",
      "\n",
      "See the caveats in the documentation: https://pandas.pydata.org/pandas-docs/stable/user_guide/indexing.html#returning-a-view-versus-a-copy\n",
      "  dataframe.loc[column_name] = pd.to_datetime(dataframe[column_name]).dt.date\n"
     ]
    }
   ],
   "source": [
    "def filter_orders_by_size(dataframe, min_products=5):\n",
    "    \"\"\"Only orders with at least min_products\"\"\"\n",
    "    # Calculate the total number of products per order\n",
    "    order_sizes = dataframe.groupby('order_id')['outcome'].sum()\n",
    "    # Find the orders that meet the minimum size requirement\n",
    "    large_orders = order_sizes[order_sizes >= min_products].index\n",
    "    # Filter the original DataFrame to only include these orders\n",
    "    return dataframe[dataframe['order_id'].isin(large_orders)]\n",
    "\n",
    "def convert_to_datetime(dataframe, column_name):\n",
    "    \"\"\"Convert a column to datetime.\"\"\"\n",
    "    dataframe.loc[column_name] = pd.to_datetime(dataframe[column_name])\n",
    "    return dataframe\n",
    "\n",
    "def convert_to_date(dataframe, column_name):\n",
    "    \"\"\"Convert a column to just date, no time.\"\"\"\n",
    "    dataframe.loc[column_name] = pd.to_datetime(dataframe[column_name]).dt.date\n",
    "    return dataframe\n",
    "\n",
    "# Apply the functions to the DataFrame\n",
    "df_filtered = filter_orders_by_size(dataframe)\n",
    "df_filtered = convert_to_datetime(df_filtered, 'created_at')\n",
    "df_selected = convert_to_date(df_filtered, 'order_date')\n"
   ]
  },
  {
   "cell_type": "markdown",
   "metadata": {},
   "source": [
    "Compruebo el tamaño del nuevo dataframe a ver si es menor que el normal"
   ]
  },
  {
   "cell_type": "code",
   "execution_count": 21,
   "metadata": {},
   "outputs": [
    {
     "data": {
      "text/plain": [
       "True"
      ]
     },
     "execution_count": 21,
     "metadata": {},
     "output_type": "execute_result"
    }
   ],
   "source": [
    "df_selected.order_id.nunique() < dataframe.order_id.nunique()"
   ]
  },
  {
   "cell_type": "code",
   "execution_count": 23,
   "metadata": {},
   "outputs": [
    {
     "data": {
      "text/plain": [
       "order_date\n",
       "2020-10-05 00:00:00     3\n",
       "2020-10-06 00:00:00     7\n",
       "2020-10-07 00:00:00     6\n",
       "2020-10-08 00:00:00    12\n",
       "2020-10-09 00:00:00     4\n",
       "Name: order_id, dtype: int64"
      ]
     },
     "execution_count": 23,
     "metadata": {},
     "output_type": "execute_result"
    }
   ],
   "source": [
    "daily_orders = df_selected.groupby('order_date').order_id.nunique()\n",
    "daily_orders.head()"
   ]
  },
  {
   "cell_type": "code",
   "execution_count": 26,
   "metadata": {},
   "outputs": [
    {
     "data": {
      "text/plain": [
       "Text(0.5, 1.0, 'Daily orders')"
      ]
     },
     "execution_count": 26,
     "metadata": {},
     "output_type": "execute_result"
    },
    {
     "data": {
      "image/png": "[encoded data removed]",
      "text/plain": [
       "<Figure size 640x480 with 1 Axes>"
      ]
     },
     "metadata": {},
     "output_type": "display_data"
    }
   ],
   "source": [
    "plt.plot(daily_orders)\n",
    "plt.title(\"Daily orders\")"
   ]
  },
  {
   "cell_type": "markdown",
   "metadata": {},
   "source": [
    "Como hay una clara evolución temporal de los datos, vamos a hacer un split temporal para train, validation y training"
   ]
  },
  {
   "cell_type": "code",
   "execution_count": 27,
   "metadata": {},
   "outputs": [
    {
     "name": "stdout",
     "output_type": "stream",
     "text": [
      "Train since: 2020-10-05 00:00:00\n",
      "Train until: 2021-02-05 00:00:00\n",
      "Val until: 2021-02-23 00:00:00\n",
      "Test until: 2021-03-03 00:00:00\n"
     ]
    }
   ],
   "source": [
    "cumulative_percentage = daily_orders.cumsum() / daily_orders.sum()\n",
    "\n",
    "train_cutoff_index = cumulative_percentage.searchsorted(0.7)\n",
    "val_cutoff_index = cumulative_percentage.searchsorted(0.9)\n",
    "\n",
    "train_val_cutoff = cumulative_percentage.index[train_cutoff_index]\n",
    "val_test_cutoff = cumulative_percentage.index[val_cutoff_index]\n",
    "\n",
    "print(\"Train since:\", cumulative_percentage.index.min())\n",
    "print(\"Train until:\", train_val_cutoff)\n",
    "print(\"Val until:\", val_test_cutoff)\n",
    "print(\"Test until:\", cumulative_percentage.index.max())\n"
   ]
  },
  {
   "cell_type": "code",
   "execution_count": 28,
   "metadata": {},
   "outputs": [],
   "source": [
    "train_df = df_selected[df_selected.order_date <= train_val_cutoff]\n",
    "val_df = df_selected[(df_selected.order_date > train_val_cutoff) & (df_selected.order_date <= val_test_cutoff)]\n",
    "test_df = df_selected[df_selected.order_date > val_test_cutoff]"
   ]
  },
  {
   "cell_type": "code",
   "execution_count": 29,
   "metadata": {},
   "outputs": [],
   "source": [
    "def plot_metrics(\n",
    "        model_name, y_pred, y_test, target_precision=0.05, figure=None\n",
    "    ):\n",
    "    # Calculate precision and recall for various thresholds\n",
    "    precision_, recall_, _ = precision_recall_curve(y_test, y_pred)\n",
    "    # Calculate the area under the precision-recall curve\n",
    "    pr_auc = auc(recall_, precision_)\n",
    "\n",
    "    # Calculate the false positive rate and true positive rate for various thresholds\n",
    "    fpr, tpr, _ = roc_curve(y_test, y_pred)\n",
    "    # Calculate the area under the ROC curve\n",
    "    roc_auc = roc_auc_score(y_test, y_pred)\n",
    "\n",
    "    # If no figure is provided, create a new one\n",
    "    if figure is None:\n",
    "        fig, ax = plt.subplots(1, 2, figsize=(14, 7))  # 1 row, 2 columns for subplots\n",
    "    else:\n",
    "        fig, ax = figure  # Use the provided figure and axes\n",
    "        \n",
    "    # Plot the precision-recall curve on the first subplot\n",
    "    ax[0].plot(recall_, precision_, label=f\"PR Curve (AUC: {pr_auc:.2f})\")\n",
    "    ax[0].set_xlabel(\"Recall\")\n",
    "    ax[0].set_ylabel(\"Precision\")\n",
    "    ax[0].set_title(\"Precision-Recall Curve\")\n",
    "    ax[0].legend(loc='best')  # Show the legend in the best location\n",
    "\n",
    "    # Plot the ROC curve on the second subplot\n",
    "    ax[1].plot(fpr, tpr, label=f\"ROC Curve (AUC: {roc_auc:.2f})\")\n",
    "    ax[1].set_xlabel(\"False Positive Rate\")\n",
    "    ax[1].set_ylabel(\"True Positive Rate\")\n",
    "    ax[1].set_title(\"ROC Curve\")\n",
    "    ax[1].legend(loc='best')  # Show the legend in the best location\n",
    "    "
   ]
  },
  {
   "cell_type": "code",
   "execution_count": null,
   "metadata": {},
   "outputs": [],
   "source": [
    "plot_metrics(\"Popularity baseline\", y_pred=val_df[\"global_popularity\"], y_test=val_df[label_col])"
   ]
  }
 ],
 "metadata": {
  "kernelspec": {
   "display_name": "zrive-ds-y_kZvhtg-py3.11",
   "language": "python",
   "name": "python3"
  },
  "language_info": {
   "codemirror_mode": {
    "name": "ipython",
    "version": 3
   },
   "file_extension": ".py",
   "mimetype": "text/x-python",
   "name": "python",
   "nbconvert_exporter": "python",
   "pygments_lexer": "ipython3",
   "version": "3.11.5"
  }
 },
 "nbformat": 4,
 "nbformat_minor": 2
}
